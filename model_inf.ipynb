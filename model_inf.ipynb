{
  "cells": [
    {
      "cell_type": "code",
      "execution_count": 1,
      "metadata": {
        "colab": {
          "base_uri": "https://localhost:8080/"
        },
        "id": "nFpUFogyxbKU",
        "outputId": "4a61ae11-7072-4c26-bb7b-7ed7f1dee54f"
      },
      "outputs": [
        {
          "name": "stdout",
          "output_type": "stream",
          "text": [
            "Requirement already satisfied: feature_engine in c:\\users\\ridhwan\\miniconda3\\lib\\site-packages (1.6.1)\n",
            "Requirement already satisfied: scikit-learn>=1.0.0 in c:\\users\\ridhwan\\miniconda3\\lib\\site-packages (from feature_engine) (1.2.2)\n",
            "Requirement already satisfied: pandas>=1.0.3 in c:\\users\\ridhwan\\miniconda3\\lib\\site-packages (from feature_engine) (1.5.3)\n",
            "Requirement already satisfied: scipy>=1.4.1 in c:\\users\\ridhwan\\miniconda3\\lib\\site-packages (from feature_engine) (1.10.1)\n",
            "Requirement already satisfied: numpy>=1.18.2 in c:\\users\\ridhwan\\miniconda3\\lib\\site-packages (from feature_engine) (1.24.3)\n",
            "Requirement already satisfied: statsmodels>=0.11.1 in c:\\users\\ridhwan\\miniconda3\\lib\\site-packages (from feature_engine) (0.14.0)\n",
            "Requirement already satisfied: pytz>=2020.1 in c:\\users\\ridhwan\\miniconda3\\lib\\site-packages (from pandas>=1.0.3->feature_engine) (2022.7)\n",
            "Requirement already satisfied: python-dateutil>=2.8.1 in c:\\users\\ridhwan\\miniconda3\\lib\\site-packages (from pandas>=1.0.3->feature_engine) (2.8.2)\n",
            "Requirement already satisfied: joblib>=1.1.1 in c:\\users\\ridhwan\\miniconda3\\lib\\site-packages (from scikit-learn>=1.0.0->feature_engine) (1.2.0)\n",
            "Requirement already satisfied: threadpoolctl>=2.0.0 in c:\\users\\ridhwan\\miniconda3\\lib\\site-packages (from scikit-learn>=1.0.0->feature_engine) (3.1.0)\n",
            "Requirement already satisfied: patsy>=0.5.2 in c:\\users\\ridhwan\\miniconda3\\lib\\site-packages (from statsmodels>=0.11.1->feature_engine) (0.5.3)\n",
            "Requirement already satisfied: packaging>=21.3 in c:\\users\\ridhwan\\miniconda3\\lib\\site-packages (from statsmodels>=0.11.1->feature_engine) (23.0)\n",
            "Requirement already satisfied: six in c:\\users\\ridhwan\\miniconda3\\lib\\site-packages (from patsy>=0.5.2->statsmodels>=0.11.1->feature_engine) (1.16.0)\n"
          ]
        }
      ],
      "source": [
        "import pandas as pd\n",
        "import numpy as np\n",
        "\n",
        "from sklearn.impute import SimpleImputer\n",
        "\n",
        "!pip install feature_engine\n",
        "from feature_engine.outliers import Winsorizer\n",
        "from sklearn.preprocessing import MinMaxScaler, OrdinalEncoder, OneHotEncoder\n",
        "\n",
        "from sklearn.pipeline import Pipeline\n",
        "from sklearn.compose import ColumnTransformer\n",
        "\n",
        "import tensorflow as tf\n",
        "from tensorflow.keras.models import Sequential, Model, load_model\n",
        "from tensorflow.keras.layers import Input, Dense, Dropout\n",
        "\n",
        "np.random.seed(50)\n",
        "tf.random.set_seed(50)"
      ]
    },
    {
      "cell_type": "code",
      "execution_count": 2,
      "metadata": {
        "colab": {
          "base_uri": "https://localhost:8080/",
          "height": 363
        },
        "id": "3LXZXovjxuQg",
        "outputId": "2745937e-70c0-45ea-dfaf-4547cd26b6f7"
      },
      "outputs": [
        {
          "data": {
            "text/html": [
              "<div>\n",
              "<style scoped>\n",
              "    .dataframe tbody tr th:only-of-type {\n",
              "        vertical-align: middle;\n",
              "    }\n",
              "\n",
              "    .dataframe tbody tr th {\n",
              "        vertical-align: top;\n",
              "    }\n",
              "\n",
              "    .dataframe thead th {\n",
              "        text-align: right;\n",
              "    }\n",
              "</style>\n",
              "<table border=\"1\" class=\"dataframe\">\n",
              "  <thead>\n",
              "    <tr style=\"text-align: right;\">\n",
              "      <th></th>\n",
              "      <th>Unnamed: 0</th>\n",
              "      <th>avg_transaction_value</th>\n",
              "      <th>points_in_wallet</th>\n",
              "      <th>membership_category</th>\n",
              "      <th>feedback</th>\n",
              "      <th>churn_risk_score</th>\n",
              "    </tr>\n",
              "  </thead>\n",
              "  <tbody>\n",
              "    <tr>\n",
              "      <th>0</th>\n",
              "      <td>0</td>\n",
              "      <td>45030.15</td>\n",
              "      <td>620.140000</td>\n",
              "      <td>No Membership</td>\n",
              "      <td>Poor Customer Service</td>\n",
              "      <td>1</td>\n",
              "    </tr>\n",
              "    <tr>\n",
              "      <th>1</th>\n",
              "      <td>1</td>\n",
              "      <td>38243.59</td>\n",
              "      <td>692.870000</td>\n",
              "      <td>No Membership</td>\n",
              "      <td>No reason specified</td>\n",
              "      <td>1</td>\n",
              "    </tr>\n",
              "    <tr>\n",
              "      <th>2</th>\n",
              "      <td>2</td>\n",
              "      <td>23176.72</td>\n",
              "      <td>674.080000</td>\n",
              "      <td>Basic Membership</td>\n",
              "      <td>No reason specified</td>\n",
              "      <td>1</td>\n",
              "    </tr>\n",
              "    <tr>\n",
              "      <th>3</th>\n",
              "      <td>3</td>\n",
              "      <td>6846.24</td>\n",
              "      <td>301.314265</td>\n",
              "      <td>Basic Membership</td>\n",
              "      <td>Poor Website</td>\n",
              "      <td>1</td>\n",
              "    </tr>\n",
              "    <tr>\n",
              "      <th>4</th>\n",
              "      <td>4</td>\n",
              "      <td>23425.70</td>\n",
              "      <td>709.790000</td>\n",
              "      <td>Premium Membership</td>\n",
              "      <td>User Friendly Website</td>\n",
              "      <td>0</td>\n",
              "    </tr>\n",
              "    <tr>\n",
              "      <th>5</th>\n",
              "      <td>5</td>\n",
              "      <td>18876.52</td>\n",
              "      <td>706.680000</td>\n",
              "      <td>Silver Membership</td>\n",
              "      <td>Too many ads</td>\n",
              "      <td>0</td>\n",
              "    </tr>\n",
              "    <tr>\n",
              "      <th>6</th>\n",
              "      <td>6</td>\n",
              "      <td>24139.82</td>\n",
              "      <td>750.730000</td>\n",
              "      <td>Platinum Membership</td>\n",
              "      <td>Poor Product Quality</td>\n",
              "      <td>0</td>\n",
              "    </tr>\n",
              "    <tr>\n",
              "      <th>7</th>\n",
              "      <td>7</td>\n",
              "      <td>42001.80</td>\n",
              "      <td>840.130000</td>\n",
              "      <td>Platinum Membership</td>\n",
              "      <td>User Friendly Website</td>\n",
              "      <td>0</td>\n",
              "    </tr>\n",
              "    <tr>\n",
              "      <th>8</th>\n",
              "      <td>8</td>\n",
              "      <td>69495.40</td>\n",
              "      <td>792.790000</td>\n",
              "      <td>Premium Membership</td>\n",
              "      <td>Quality Customer Care</td>\n",
              "      <td>0</td>\n",
              "    </tr>\n",
              "    <tr>\n",
              "      <th>9</th>\n",
              "      <td>9</td>\n",
              "      <td>18252.15</td>\n",
              "      <td>708.400000</td>\n",
              "      <td>Premium Membership</td>\n",
              "      <td>Reasonable Price</td>\n",
              "      <td>0</td>\n",
              "    </tr>\n",
              "  </tbody>\n",
              "</table>\n",
              "</div>"
            ],
            "text/plain": [
              "   Unnamed: 0  avg_transaction_value  points_in_wallet  membership_category  \\\n",
              "0           0               45030.15        620.140000        No Membership   \n",
              "1           1               38243.59        692.870000        No Membership   \n",
              "2           2               23176.72        674.080000     Basic Membership   \n",
              "3           3                6846.24        301.314265     Basic Membership   \n",
              "4           4               23425.70        709.790000   Premium Membership   \n",
              "5           5               18876.52        706.680000    Silver Membership   \n",
              "6           6               24139.82        750.730000  Platinum Membership   \n",
              "7           7               42001.80        840.130000  Platinum Membership   \n",
              "8           8               69495.40        792.790000   Premium Membership   \n",
              "9           9               18252.15        708.400000   Premium Membership   \n",
              "\n",
              "                feedback  churn_risk_score  \n",
              "0  Poor Customer Service                 1  \n",
              "1    No reason specified                 1  \n",
              "2    No reason specified                 1  \n",
              "3           Poor Website                 1  \n",
              "4  User Friendly Website                 0  \n",
              "5           Too many ads                 0  \n",
              "6   Poor Product Quality                 0  \n",
              "7  User Friendly Website                 0  \n",
              "8  Quality Customer Care                 0  \n",
              "9       Reasonable Price                 0  "
            ]
          },
          "execution_count": 2,
          "metadata": {},
          "output_type": "execute_result"
        }
      ],
      "source": [
        "df_inf = pd.read_csv('data_inf.csv')\n",
        "df_inf"
      ]
    },
    {
      "cell_type": "code",
      "execution_count": 3,
      "metadata": {
        "id": "G2CKHYbIzGGg"
      },
      "outputs": [],
      "source": [
        "df_inf.drop('Unnamed: 0',axis=1,inplace=True)"
      ]
    },
    {
      "cell_type": "code",
      "execution_count": 4,
      "metadata": {
        "colab": {
          "base_uri": "https://localhost:8080/",
          "height": 363
        },
        "id": "LnFQ5chKzTbl",
        "outputId": "89c3d449-9518-467e-a50e-0a60a5623688"
      },
      "outputs": [
        {
          "data": {
            "text/html": [
              "<div>\n",
              "<style scoped>\n",
              "    .dataframe tbody tr th:only-of-type {\n",
              "        vertical-align: middle;\n",
              "    }\n",
              "\n",
              "    .dataframe tbody tr th {\n",
              "        vertical-align: top;\n",
              "    }\n",
              "\n",
              "    .dataframe thead th {\n",
              "        text-align: right;\n",
              "    }\n",
              "</style>\n",
              "<table border=\"1\" class=\"dataframe\">\n",
              "  <thead>\n",
              "    <tr style=\"text-align: right;\">\n",
              "      <th></th>\n",
              "      <th>avg_transaction_value</th>\n",
              "      <th>points_in_wallet</th>\n",
              "      <th>membership_category</th>\n",
              "      <th>feedback</th>\n",
              "      <th>churn_risk_score</th>\n",
              "    </tr>\n",
              "  </thead>\n",
              "  <tbody>\n",
              "    <tr>\n",
              "      <th>0</th>\n",
              "      <td>45030.15</td>\n",
              "      <td>620.140000</td>\n",
              "      <td>No Membership</td>\n",
              "      <td>Poor Customer Service</td>\n",
              "      <td>1</td>\n",
              "    </tr>\n",
              "    <tr>\n",
              "      <th>1</th>\n",
              "      <td>38243.59</td>\n",
              "      <td>692.870000</td>\n",
              "      <td>No Membership</td>\n",
              "      <td>No reason specified</td>\n",
              "      <td>1</td>\n",
              "    </tr>\n",
              "    <tr>\n",
              "      <th>2</th>\n",
              "      <td>23176.72</td>\n",
              "      <td>674.080000</td>\n",
              "      <td>Basic Membership</td>\n",
              "      <td>No reason specified</td>\n",
              "      <td>1</td>\n",
              "    </tr>\n",
              "    <tr>\n",
              "      <th>3</th>\n",
              "      <td>6846.24</td>\n",
              "      <td>301.314265</td>\n",
              "      <td>Basic Membership</td>\n",
              "      <td>Poor Website</td>\n",
              "      <td>1</td>\n",
              "    </tr>\n",
              "    <tr>\n",
              "      <th>4</th>\n",
              "      <td>23425.70</td>\n",
              "      <td>709.790000</td>\n",
              "      <td>Premium Membership</td>\n",
              "      <td>User Friendly Website</td>\n",
              "      <td>0</td>\n",
              "    </tr>\n",
              "    <tr>\n",
              "      <th>5</th>\n",
              "      <td>18876.52</td>\n",
              "      <td>706.680000</td>\n",
              "      <td>Silver Membership</td>\n",
              "      <td>Too many ads</td>\n",
              "      <td>0</td>\n",
              "    </tr>\n",
              "    <tr>\n",
              "      <th>6</th>\n",
              "      <td>24139.82</td>\n",
              "      <td>750.730000</td>\n",
              "      <td>Platinum Membership</td>\n",
              "      <td>Poor Product Quality</td>\n",
              "      <td>0</td>\n",
              "    </tr>\n",
              "    <tr>\n",
              "      <th>7</th>\n",
              "      <td>42001.80</td>\n",
              "      <td>840.130000</td>\n",
              "      <td>Platinum Membership</td>\n",
              "      <td>User Friendly Website</td>\n",
              "      <td>0</td>\n",
              "    </tr>\n",
              "    <tr>\n",
              "      <th>8</th>\n",
              "      <td>69495.40</td>\n",
              "      <td>792.790000</td>\n",
              "      <td>Premium Membership</td>\n",
              "      <td>Quality Customer Care</td>\n",
              "      <td>0</td>\n",
              "    </tr>\n",
              "    <tr>\n",
              "      <th>9</th>\n",
              "      <td>18252.15</td>\n",
              "      <td>708.400000</td>\n",
              "      <td>Premium Membership</td>\n",
              "      <td>Reasonable Price</td>\n",
              "      <td>0</td>\n",
              "    </tr>\n",
              "  </tbody>\n",
              "</table>\n",
              "</div>"
            ],
            "text/plain": [
              "   avg_transaction_value  points_in_wallet  membership_category  \\\n",
              "0               45030.15        620.140000        No Membership   \n",
              "1               38243.59        692.870000        No Membership   \n",
              "2               23176.72        674.080000     Basic Membership   \n",
              "3                6846.24        301.314265     Basic Membership   \n",
              "4               23425.70        709.790000   Premium Membership   \n",
              "5               18876.52        706.680000    Silver Membership   \n",
              "6               24139.82        750.730000  Platinum Membership   \n",
              "7               42001.80        840.130000  Platinum Membership   \n",
              "8               69495.40        792.790000   Premium Membership   \n",
              "9               18252.15        708.400000   Premium Membership   \n",
              "\n",
              "                feedback  churn_risk_score  \n",
              "0  Poor Customer Service                 1  \n",
              "1    No reason specified                 1  \n",
              "2    No reason specified                 1  \n",
              "3           Poor Website                 1  \n",
              "4  User Friendly Website                 0  \n",
              "5           Too many ads                 0  \n",
              "6   Poor Product Quality                 0  \n",
              "7  User Friendly Website                 0  \n",
              "8  Quality Customer Care                 0  \n",
              "9       Reasonable Price                 0  "
            ]
          },
          "execution_count": 4,
          "metadata": {},
          "output_type": "execute_result"
        }
      ],
      "source": [
        "df_inf"
      ]
    },
    {
      "cell_type": "code",
      "execution_count": 5,
      "metadata": {
        "id": "q_jb35D6IlcJ"
      },
      "outputs": [],
      "source": [
        "import joblib\n",
        "with open('prepro.pkl', 'rb') as file1:\n",
        "  preprocess_pipe = joblib.load(file1)"
      ]
    },
    {
      "cell_type": "code",
      "execution_count": 6,
      "metadata": {
        "id": "fGH5en91IS2w"
      },
      "outputs": [],
      "source": [
        "df_inf_final = preprocess_pipe.transform(df_inf)"
      ]
    },
    {
      "cell_type": "code",
      "execution_count": 7,
      "metadata": {
        "id": "hLlNE9vzKOey"
      },
      "outputs": [],
      "source": [
        "model = load_model('ann_churn.h5')"
      ]
    },
    {
      "cell_type": "code",
      "execution_count": 8,
      "metadata": {
        "colab": {
          "base_uri": "https://localhost:8080/"
        },
        "id": "SA4dsYJ-J3jN",
        "outputId": "6d1767cb-bbbe-4c9c-c36d-e4b993aacb96"
      },
      "outputs": [
        {
          "name": "stdout",
          "output_type": "stream",
          "text": [
            "1/1 [==============================] - 0s 121ms/step\n"
          ]
        },
        {
          "data": {
            "text/plain": [
              "array([[9.6957624e-01],\n",
              "       [9.6751618e-01],\n",
              "       [9.6283036e-01],\n",
              "       [9.7495693e-01],\n",
              "       [0.0000000e+00],\n",
              "       [5.2210289e-01],\n",
              "       [2.3994863e-07],\n",
              "       [0.0000000e+00],\n",
              "       [0.0000000e+00],\n",
              "       [0.0000000e+00]], dtype=float32)"
            ]
          },
          "execution_count": 8,
          "metadata": {},
          "output_type": "execute_result"
        }
      ],
      "source": [
        "pred_inf = model.predict(df_inf_final)\n",
        "pred_inf"
      ]
    },
    {
      "cell_type": "code",
      "execution_count": 9,
      "metadata": {
        "colab": {
          "base_uri": "https://localhost:8080/"
        },
        "id": "AFTC388GL3OJ",
        "outputId": "cd38069f-5eee-4582-c549-c4176d276f78"
      },
      "outputs": [
        {
          "data": {
            "text/plain": [
              "array([[1],\n",
              "       [1],\n",
              "       [1],\n",
              "       [1],\n",
              "       [0],\n",
              "       [1],\n",
              "       [0],\n",
              "       [0],\n",
              "       [0],\n",
              "       [0]])"
            ]
          },
          "execution_count": 9,
          "metadata": {},
          "output_type": "execute_result"
        }
      ],
      "source": [
        "res_inf = np.where(pred_inf >= 0.5, 1, 0)\n",
        "res_inf"
      ]
    },
    {
      "cell_type": "code",
      "execution_count": 10,
      "metadata": {
        "id": "H3a9exnKPyY2"
      },
      "outputs": [],
      "source": [
        "df_res_inf = pd.DataFrame(res_inf, columns=['Prediction'])"
      ]
    },
    {
      "cell_type": "code",
      "execution_count": 11,
      "metadata": {
        "colab": {
          "base_uri": "https://localhost:8080/",
          "height": 363
        },
        "id": "LpGmBaSQQcKS",
        "outputId": "c7050d25-2283-4590-888e-cb8400e340c8"
      },
      "outputs": [
        {
          "data": {
            "text/html": [
              "<div>\n",
              "<style scoped>\n",
              "    .dataframe tbody tr th:only-of-type {\n",
              "        vertical-align: middle;\n",
              "    }\n",
              "\n",
              "    .dataframe tbody tr th {\n",
              "        vertical-align: top;\n",
              "    }\n",
              "\n",
              "    .dataframe thead th {\n",
              "        text-align: right;\n",
              "    }\n",
              "</style>\n",
              "<table border=\"1\" class=\"dataframe\">\n",
              "  <thead>\n",
              "    <tr style=\"text-align: right;\">\n",
              "      <th></th>\n",
              "      <th>avg_transaction_value</th>\n",
              "      <th>points_in_wallet</th>\n",
              "      <th>membership_category</th>\n",
              "      <th>feedback</th>\n",
              "      <th>churn_risk_score</th>\n",
              "      <th>Prediction</th>\n",
              "    </tr>\n",
              "  </thead>\n",
              "  <tbody>\n",
              "    <tr>\n",
              "      <th>0</th>\n",
              "      <td>45030.15</td>\n",
              "      <td>620.140000</td>\n",
              "      <td>No Membership</td>\n",
              "      <td>Poor Customer Service</td>\n",
              "      <td>1</td>\n",
              "      <td>1</td>\n",
              "    </tr>\n",
              "    <tr>\n",
              "      <th>1</th>\n",
              "      <td>38243.59</td>\n",
              "      <td>692.870000</td>\n",
              "      <td>No Membership</td>\n",
              "      <td>No reason specified</td>\n",
              "      <td>1</td>\n",
              "      <td>1</td>\n",
              "    </tr>\n",
              "    <tr>\n",
              "      <th>2</th>\n",
              "      <td>23176.72</td>\n",
              "      <td>674.080000</td>\n",
              "      <td>Basic Membership</td>\n",
              "      <td>No reason specified</td>\n",
              "      <td>1</td>\n",
              "      <td>1</td>\n",
              "    </tr>\n",
              "    <tr>\n",
              "      <th>3</th>\n",
              "      <td>6846.24</td>\n",
              "      <td>301.314265</td>\n",
              "      <td>Basic Membership</td>\n",
              "      <td>Poor Website</td>\n",
              "      <td>1</td>\n",
              "      <td>1</td>\n",
              "    </tr>\n",
              "    <tr>\n",
              "      <th>4</th>\n",
              "      <td>23425.70</td>\n",
              "      <td>709.790000</td>\n",
              "      <td>Premium Membership</td>\n",
              "      <td>User Friendly Website</td>\n",
              "      <td>0</td>\n",
              "      <td>0</td>\n",
              "    </tr>\n",
              "    <tr>\n",
              "      <th>5</th>\n",
              "      <td>18876.52</td>\n",
              "      <td>706.680000</td>\n",
              "      <td>Silver Membership</td>\n",
              "      <td>Too many ads</td>\n",
              "      <td>0</td>\n",
              "      <td>1</td>\n",
              "    </tr>\n",
              "    <tr>\n",
              "      <th>6</th>\n",
              "      <td>24139.82</td>\n",
              "      <td>750.730000</td>\n",
              "      <td>Platinum Membership</td>\n",
              "      <td>Poor Product Quality</td>\n",
              "      <td>0</td>\n",
              "      <td>0</td>\n",
              "    </tr>\n",
              "    <tr>\n",
              "      <th>7</th>\n",
              "      <td>42001.80</td>\n",
              "      <td>840.130000</td>\n",
              "      <td>Platinum Membership</td>\n",
              "      <td>User Friendly Website</td>\n",
              "      <td>0</td>\n",
              "      <td>0</td>\n",
              "    </tr>\n",
              "    <tr>\n",
              "      <th>8</th>\n",
              "      <td>69495.40</td>\n",
              "      <td>792.790000</td>\n",
              "      <td>Premium Membership</td>\n",
              "      <td>Quality Customer Care</td>\n",
              "      <td>0</td>\n",
              "      <td>0</td>\n",
              "    </tr>\n",
              "    <tr>\n",
              "      <th>9</th>\n",
              "      <td>18252.15</td>\n",
              "      <td>708.400000</td>\n",
              "      <td>Premium Membership</td>\n",
              "      <td>Reasonable Price</td>\n",
              "      <td>0</td>\n",
              "      <td>0</td>\n",
              "    </tr>\n",
              "  </tbody>\n",
              "</table>\n",
              "</div>"
            ],
            "text/plain": [
              "   avg_transaction_value  points_in_wallet  membership_category  \\\n",
              "0               45030.15        620.140000        No Membership   \n",
              "1               38243.59        692.870000        No Membership   \n",
              "2               23176.72        674.080000     Basic Membership   \n",
              "3                6846.24        301.314265     Basic Membership   \n",
              "4               23425.70        709.790000   Premium Membership   \n",
              "5               18876.52        706.680000    Silver Membership   \n",
              "6               24139.82        750.730000  Platinum Membership   \n",
              "7               42001.80        840.130000  Platinum Membership   \n",
              "8               69495.40        792.790000   Premium Membership   \n",
              "9               18252.15        708.400000   Premium Membership   \n",
              "\n",
              "                feedback  churn_risk_score  Prediction  \n",
              "0  Poor Customer Service                 1           1  \n",
              "1    No reason specified                 1           1  \n",
              "2    No reason specified                 1           1  \n",
              "3           Poor Website                 1           1  \n",
              "4  User Friendly Website                 0           0  \n",
              "5           Too many ads                 0           1  \n",
              "6   Poor Product Quality                 0           0  \n",
              "7  User Friendly Website                 0           0  \n",
              "8  Quality Customer Care                 0           0  \n",
              "9       Reasonable Price                 0           0  "
            ]
          },
          "execution_count": 11,
          "metadata": {},
          "output_type": "execute_result"
        }
      ],
      "source": [
        "df_compare = pd.concat([df_inf,df_res_inf], axis=1)\n",
        "df_compare"
      ]
    }
  ],
  "metadata": {
    "colab": {
      "provenance": []
    },
    "kernelspec": {
      "display_name": "Python 3",
      "name": "python3"
    },
    "language_info": {
      "codemirror_mode": {
        "name": "ipython",
        "version": 3
      },
      "file_extension": ".py",
      "mimetype": "text/x-python",
      "name": "python",
      "nbconvert_exporter": "python",
      "pygments_lexer": "ipython3",
      "version": "3.9.16"
    }
  },
  "nbformat": 4,
  "nbformat_minor": 0
}
